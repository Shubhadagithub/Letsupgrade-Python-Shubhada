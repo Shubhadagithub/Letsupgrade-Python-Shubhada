{
  "nbformat": 4,
  "nbformat_minor": 0,
  "metadata": {
    "colab": {
      "name": "Shubhada.PythonDay2.ipynb",
      "provenance": [],
      "collapsed_sections": [],
      "authorship_tag": "ABX9TyNUHV4/uclpSbGDegu8C+F5",
      "include_colab_link": true
    },
    "kernelspec": {
      "name": "python3",
      "display_name": "Python 3"
    }
  },
  "cells": [
    {
      "cell_type": "markdown",
      "metadata": {
        "id": "view-in-github",
        "colab_type": "text"
      },
      "source": [
        "<a href=\"https://colab.research.google.com/github/Shubhadagithub/Letsupgrade-Python-Shubhada/blob/master/Shubhada_PythonDay2.ipynb\" target=\"_parent\"><img src=\"https://colab.research.google.com/assets/colab-badge.svg\" alt=\"Open In Colab\"/></a>"
      ]
    },
    {
      "cell_type": "markdown",
      "metadata": {
        "id": "S27TqG29gNYS",
        "colab_type": "text"
      },
      "source": [
        "Let's Upgrade Python\n",
        "\n",
        "\n",
        "\n",
        "\n",
        "\n",
        "\n",
        "\n",
        "\n",
        "\n",
        "\n"
      ]
    },
    {
      "cell_type": "markdown",
      "metadata": {
        "id": "UE55eSVrgq9z",
        "colab_type": "text"
      },
      "source": [
        "Day 2 Assignment"
      ]
    },
    {
      "cell_type": "markdown",
      "metadata": {
        "id": "Qpu2SJKgguJH",
        "colab_type": "text"
      },
      "source": [
        "**Q1: List and it's default functions.**"
      ]
    },
    {
      "cell_type": "code",
      "metadata": {
        "id": "L1tqYnBBWLcv",
        "colab_type": "code",
        "colab": {
          "base_uri": "https://localhost:8080/",
          "height": 34
        },
        "outputId": "2db1ef51-8dc4-4192-9127-11a257abf6e9"
      },
      "source": [
        "S=[\"Shubhada\",\"chair\",\"door\"]\n",
        "print(S)"
      ],
      "execution_count": null,
      "outputs": [
        {
          "output_type": "stream",
          "text": [
            "['Shubhada', 'chair', 'door']\n"
          ],
          "name": "stdout"
        }
      ]
    },
    {
      "cell_type": "markdown",
      "metadata": {
        "id": "Jb8T3vc8g_GH",
        "colab_type": "text"
      },
      "source": [
        "1] .append will add a item in end"
      ]
    },
    {
      "cell_type": "code",
      "metadata": {
        "id": "Art67EwyVKyj",
        "colab_type": "code",
        "colab": {
          "base_uri": "https://localhost:8080/",
          "height": 34
        },
        "outputId": "a3515b72-39db-4559-cd7f-c5c3e401fa61"
      },
      "source": [
        "S.append(\"1803026\") \n",
        "print(S) "
      ],
      "execution_count": null,
      "outputs": [
        {
          "output_type": "stream",
          "text": [
            "['Shubhada', 'chair', 'door', '1803026']\n"
          ],
          "name": "stdout"
        }
      ]
    },
    {
      "cell_type": "markdown",
      "metadata": {
        "id": "b2ugleVqhKXw",
        "colab_type": "text"
      },
      "source": [
        " 2] .extend will help to join two lists toghther"
      ]
    },
    {
      "cell_type": "code",
      "metadata": {
        "id": "YkCJ65qaVs0L",
        "colab_type": "code",
        "colab": {
          "base_uri": "https://localhost:8080/",
          "height": 34
        },
        "outputId": "059ab611-4c0d-4e86-c7a8-a96be2d11ab0"
      },
      "source": [
        "S.extend([\"Wheel\"])     \n",
        "print(S)"
      ],
      "execution_count": null,
      "outputs": [
        {
          "output_type": "stream",
          "text": [
            "['Shubhada', 'chair', 'door', '1803026', 'Wheel']\n"
          ],
          "name": "stdout"
        }
      ]
    },
    {
      "cell_type": "markdown",
      "metadata": {
        "id": "_lUkLRu-hObQ",
        "colab_type": "text"
      },
      "source": [
        "3] .insert will help to insert a item in a particular position"
      ]
    },
    {
      "cell_type": "code",
      "metadata": {
        "id": "roo4qGScc8XJ",
        "colab_type": "code",
        "colab": {
          "base_uri": "https://localhost:8080/",
          "height": 34
        },
        "outputId": "45cb52ee-af4d-41d7-e865-5a674c4d792b"
      },
      "source": [
        "S.insert(0,\"bed\")      \n",
        "print(S)"
      ],
      "execution_count": null,
      "outputs": [
        {
          "output_type": "stream",
          "text": [
            "['bed', 'Shubhada', 'chair', 'door', '1803026', 'Wheel']\n"
          ],
          "name": "stdout"
        }
      ]
    },
    {
      "cell_type": "markdown",
      "metadata": {
        "id": "5sW--2NohUeP",
        "colab_type": "text"
      },
      "source": [
        "4] .remove used to remove a perticular item in the list "
      ]
    },
    {
      "cell_type": "code",
      "metadata": {
        "id": "nzlD1MVfdb2W",
        "colab_type": "code",
        "colab": {
          "base_uri": "https://localhost:8080/",
          "height": 34
        },
        "outputId": "4f4088fe-610c-4da5-b31e-bd1e51355df7"
      },
      "source": [
        "S.remove(\"bed\")        \n",
        "print(S)\n"
      ],
      "execution_count": null,
      "outputs": [
        {
          "output_type": "stream",
          "text": [
            "['Shubhada', 'chair', 'door', '1803026', 'Wheel']\n"
          ],
          "name": "stdout"
        }
      ]
    },
    {
      "cell_type": "markdown",
      "metadata": {
        "id": "40TogiQAhYDW",
        "colab_type": "text"
      },
      "source": [
        "5] .pop Removes the item at the given position in the list, if no index is mention pop() then it will remove the last item in the list"
      ]
    },
    {
      "cell_type": "code",
      "metadata": {
        "id": "QN7IVgb3d5zR",
        "colab_type": "code",
        "colab": {
          "base_uri": "https://localhost:8080/",
          "height": 34
        },
        "outputId": "37ceb149-a735-4a4a-e9fb-c43c0a3e6c45"
      },
      "source": [
        "S.pop()                 #.pop example with no index mention               \n",
        "print(S)                \n"
      ],
      "execution_count": null,
      "outputs": [
        {
          "output_type": "stream",
          "text": [
            "['Shubhada', 'chair', 'door', '1803026']\n"
          ],
          "name": "stdout"
        }
      ]
    },
    {
      "cell_type": "code",
      "metadata": {
        "id": "nQiMK4FpfolG",
        "colab_type": "code",
        "colab": {
          "base_uri": "https://localhost:8080/",
          "height": 34
        },
        "outputId": "8c490753-668d-4a0a-b2f0-72ccb09a5f65"
      },
      "source": [
        "S.pop(2)                #.pop example with index\n",
        "print(S) "
      ],
      "execution_count": null,
      "outputs": [
        {
          "output_type": "stream",
          "text": [
            "['Shubhada', 'chair', '1803026']\n"
          ],
          "name": "stdout"
        }
      ]
    },
    {
      "cell_type": "markdown",
      "metadata": {
        "id": "9KzyNtMIn2Xb",
        "colab_type": "text"
      },
      "source": [
        "**Q2: Dictionary and it's default functions.**"
      ]
    },
    {
      "cell_type": "code",
      "metadata": {
        "id": "lzJEqKpXqcnE",
        "colab_type": "code",
        "colab": {}
      },
      "source": [
        "dit = {\"Colour\":\"Blue\", \"Flower\":\"Lotus\", \"Fruit\":\"Banana\", \"Number\":1234}"
      ],
      "execution_count": null,
      "outputs": []
    },
    {
      "cell_type": "code",
      "metadata": {
        "id": "OCoEnRJcsd8P",
        "colab_type": "code",
        "colab": {
          "base_uri": "https://localhost:8080/",
          "height": 34
        },
        "outputId": "c9359ab9-fe07-44ab-a86a-2b4bfe332a00"
      },
      "source": [
        "dit"
      ],
      "execution_count": null,
      "outputs": [
        {
          "output_type": "execute_result",
          "data": {
            "text/plain": [
              "{'Colour': 'Blue', 'Flower': 'Lotus', 'Fruit': 'Banana', 'Number': 1234}"
            ]
          },
          "metadata": {
            "tags": []
          },
          "execution_count": 30
        }
      ]
    },
    {
      "cell_type": "markdown",
      "metadata": {
        "id": "YOenw5m4xXkw",
        "colab_type": "text"
      },
      "source": [
        "1] .get() returns value of key "
      ]
    },
    {
      "cell_type": "code",
      "metadata": {
        "id": "oaE2QHTkuSbx",
        "colab_type": "code",
        "colab": {
          "base_uri": "https://localhost:8080/",
          "height": 35
        },
        "outputId": "b9f3285a-5879-44aa-9e93-77d7f45bd993"
      },
      "source": [
        "dit.get('Colour')"
      ],
      "execution_count": null,
      "outputs": [
        {
          "output_type": "execute_result",
          "data": {
            "application/vnd.google.colaboratory.intrinsic+json": {
              "type": "string"
            },
            "text/plain": [
              "'Blue'"
            ]
          },
          "metadata": {
            "tags": []
          },
          "execution_count": 31
        }
      ]
    },
    {
      "cell_type": "markdown",
      "metadata": {
        "id": "fU2-_EPaxck4",
        "colab_type": "text"
      },
      "source": [
        "2] .items() Returns a list of dictionary (key, value) tuple pairs"
      ]
    },
    {
      "cell_type": "code",
      "metadata": {
        "id": "aY_fX2z9utSU",
        "colab_type": "code",
        "colab": {
          "base_uri": "https://localhost:8080/",
          "height": 34
        },
        "outputId": "7e28dcb0-2b81-4c7b-bd03-9199eae4af61"
      },
      "source": [
        "dit.items()"
      ],
      "execution_count": null,
      "outputs": [
        {
          "output_type": "execute_result",
          "data": {
            "text/plain": [
              "dict_items([('Colour', 'Blue'), ('Flower', 'Lotus'), ('Fruit', 'Banana'), ('Number', 1234)])"
            ]
          },
          "metadata": {
            "tags": []
          },
          "execution_count": 32
        }
      ]
    },
    {
      "cell_type": "markdown",
      "metadata": {
        "id": "0w9dnNrvxksJ",
        "colab_type": "text"
      },
      "source": [
        "3] .keys() Returns list of dictionary keys"
      ]
    },
    {
      "cell_type": "code",
      "metadata": {
        "id": "7en8Mrkgvy00",
        "colab_type": "code",
        "colab": {
          "base_uri": "https://localhost:8080/",
          "height": 34
        },
        "outputId": "53e86b1b-5f50-40d8-a7b6-10f26ec5edad"
      },
      "source": [
        "dit.keys()"
      ],
      "execution_count": null,
      "outputs": [
        {
          "output_type": "execute_result",
          "data": {
            "text/plain": [
              "dict_keys(['Colour', 'Flower', 'Fruit', 'Number'])"
            ]
          },
          "metadata": {
            "tags": []
          },
          "execution_count": 33
        }
      ]
    },
    {
      "cell_type": "markdown",
      "metadata": {
        "id": "ruuQCnwuyfiO",
        "colab_type": "text"
      },
      "source": [
        "4] .values() will  Returns list of dictionary dict's values"
      ]
    },
    {
      "cell_type": "code",
      "metadata": {
        "id": "90qyv9F5xpcw",
        "colab_type": "code",
        "colab": {
          "base_uri": "https://localhost:8080/",
          "height": 34
        },
        "outputId": "59600107-e7f9-4870-854c-f89aa493994a"
      },
      "source": [
        "dit.values()"
      ],
      "execution_count": null,
      "outputs": [
        {
          "output_type": "execute_result",
          "data": {
            "text/plain": [
              "dict_values(['Blue', 'Lotus', 'Banana', 1234])"
            ]
          },
          "metadata": {
            "tags": []
          },
          "execution_count": 37
        }
      ]
    },
    {
      "cell_type": "markdown",
      "metadata": {
        "id": "y152DgG4zBEK",
        "colab_type": "text"
      },
      "source": [
        "5] .clear() removes all items from the dictionary."
      ]
    },
    {
      "cell_type": "code",
      "metadata": {
        "id": "B5pABtg41r_0",
        "colab_type": "code",
        "colab": {
          "base_uri": "https://localhost:8080/",
          "height": 34
        },
        "outputId": "47f9c0ed-a4d8-41ed-dd47-a9cfcc71aaea"
      },
      "source": [
        "dit.clear()\n",
        "print(dit.clear())"
      ],
      "execution_count": null,
      "outputs": [
        {
          "output_type": "stream",
          "text": [
            "None\n"
          ],
          "name": "stdout"
        }
      ]
    },
    {
      "cell_type": "markdown",
      "metadata": {
        "id": "GkRrx-062YN8",
        "colab_type": "text"
      },
      "source": [
        "**Q3: Sets and it's default functions.**"
      ]
    },
    {
      "cell_type": "code",
      "metadata": {
        "id": "6xPjCtMO2hTZ",
        "colab_type": "code",
        "colab": {
          "base_uri": "https://localhost:8080/",
          "height": 34
        },
        "outputId": "c0d9436c-c269-4019-98de-d963c2c036c7"
      },
      "source": [
        "st= {\"banana\", \"apple\", \"jackfruit\"}\n",
        "print(st)"
      ],
      "execution_count": null,
      "outputs": [
        {
          "output_type": "stream",
          "text": [
            "{'banana', 'apple', 'jackfruit'}\n"
          ],
          "name": "stdout"
        }
      ]
    },
    {
      "cell_type": "markdown",
      "metadata": {
        "id": "S73Ld_Ez4E-P",
        "colab_type": "text"
      },
      "source": [
        "1] .add will add a element in the set"
      ]
    },
    {
      "cell_type": "code",
      "metadata": {
        "id": "CHm0zllF4K1N",
        "colab_type": "code",
        "colab": {
          "base_uri": "https://localhost:8080/",
          "height": 34
        },
        "outputId": "b5e14825-35f6-4da6-900d-06e25f3e9257"
      },
      "source": [
        "st.add(\"orange\")\n",
        "print(st)"
      ],
      "execution_count": null,
      "outputs": [
        {
          "output_type": "stream",
          "text": [
            "{'banana', 'apple', 'jackfruit', 'orange'}\n"
          ],
          "name": "stdout"
        }
      ]
    },
    {
      "cell_type": "markdown",
      "metadata": {
        "id": "2Hc58f1T4QOk",
        "colab_type": "text"
      },
      "source": [
        "2] .discard will remove specified item from set"
      ]
    },
    {
      "cell_type": "code",
      "metadata": {
        "id": "8I1qaubY4ZhT",
        "colab_type": "code",
        "colab": {
          "base_uri": "https://localhost:8080/",
          "height": 34
        },
        "outputId": "16cace66-1a85-48f1-a955-940119c743e0"
      },
      "source": [
        "st.discard(\"orange\")\n",
        "print(st)"
      ],
      "execution_count": null,
      "outputs": [
        {
          "output_type": "stream",
          "text": [
            "{'banana', 'apple', 'jackfruit'}\n"
          ],
          "name": "stdout"
        }
      ]
    },
    {
      "cell_type": "markdown",
      "metadata": {
        "id": "lpF2DC_X4ejT",
        "colab_type": "text"
      },
      "source": [
        "3].copy() will give a copy of set"
      ]
    },
    {
      "cell_type": "code",
      "metadata": {
        "id": "BcxflboU5fu5",
        "colab_type": "code",
        "colab": {
          "base_uri": "https://localhost:8080/",
          "height": 34
        },
        "outputId": "953d3ec2-a5b1-44ee-e820-b8f028d9bd9c"
      },
      "source": [
        "x = st.copy()\n",
        "print(x)"
      ],
      "execution_count": null,
      "outputs": [
        {
          "output_type": "stream",
          "text": [
            "{'banana', 'apple', 'jackfruit'}\n"
          ],
          "name": "stdout"
        }
      ]
    },
    {
      "cell_type": "markdown",
      "metadata": {
        "id": "T8-_9mL95rIg",
        "colab_type": "text"
      },
      "source": [
        "4] .update will Update the set with the union of this set and others"
      ]
    },
    {
      "cell_type": "code",
      "metadata": {
        "id": "tcvJQ8j064f4",
        "colab_type": "code",
        "colab": {
          "base_uri": "https://localhost:8080/",
          "height": 34
        },
        "outputId": "13f1da9d-46a2-45b7-a78e-0a265ac88ea2"
      },
      "source": [
        "y = {\"google\", \"microsoft\", \"windows\"}\n",
        "st.update(y)\n",
        "print(st)"
      ],
      "execution_count": null,
      "outputs": [
        {
          "output_type": "stream",
          "text": [
            "{'banana', 'jackfruit', 'google', 'microsoft', 'apple', 'windows'}\n"
          ],
          "name": "stdout"
        }
      ]
    },
    {
      "cell_type": "markdown",
      "metadata": {
        "id": "lzGmYYfu7fb1",
        "colab_type": "text"
      },
      "source": [
        "5] .clear will Removes all the elements from the set"
      ]
    },
    {
      "cell_type": "code",
      "metadata": {
        "id": "0rkCjFZt7fCv",
        "colab_type": "code",
        "colab": {
          "base_uri": "https://localhost:8080/",
          "height": 34
        },
        "outputId": "d65a692c-37c2-4d7b-f772-aa7d84a04f26"
      },
      "source": [
        "st.clear()\n",
        "print(st)"
      ],
      "execution_count": null,
      "outputs": [
        {
          "output_type": "stream",
          "text": [
            "set()\n"
          ],
          "name": "stdout"
        }
      ]
    },
    {
      "cell_type": "markdown",
      "metadata": {
        "id": "licFJFb2ACAq",
        "colab_type": "text"
      },
      "source": [
        "**Q4: Tuple and explore default methods**"
      ]
    },
    {
      "cell_type": "markdown",
      "metadata": {
        "id": "_BvgSt5ZCI0z",
        "colab_type": "text"
      },
      "source": [
        "There are only two default methods are there in tuple data type that are .count() and .index()\n",
        "\n"
      ]
    },
    {
      "cell_type": "code",
      "metadata": {
        "id": "b66KkjpmAOQn",
        "colab_type": "code",
        "colab": {}
      },
      "source": [
        "tup=(\"Mumbai\",\"Pune\",\"Latur\",11,11,12)"
      ],
      "execution_count": null,
      "outputs": []
    },
    {
      "cell_type": "code",
      "metadata": {
        "id": "MC5XbImPCeSv",
        "colab_type": "code",
        "colab": {
          "base_uri": "https://localhost:8080/",
          "height": 34
        },
        "outputId": "f7144b34-9a8c-4c05-b754-219c9f064a00"
      },
      "source": [
        "tup"
      ],
      "execution_count": null,
      "outputs": [
        {
          "output_type": "execute_result",
          "data": {
            "text/plain": [
              "('Mumbai', 'Pune', 'Latur', 11, 11, 12)"
            ]
          },
          "metadata": {
            "tags": []
          },
          "execution_count": 88
        }
      ]
    },
    {
      "cell_type": "markdown",
      "metadata": {
        "id": "O2cnrdWCChcs",
        "colab_type": "text"
      },
      "source": [
        "1] .count() returns the number of times a specified value appears in the tuple.\n",
        "\n"
      ]
    },
    {
      "cell_type": "code",
      "metadata": {
        "id": "MbtnmGYbCrBd",
        "colab_type": "code",
        "colab": {
          "base_uri": "https://localhost:8080/",
          "height": 34
        },
        "outputId": "affd8dd5-22d0-486b-f51b-bd4f45d110b0"
      },
      "source": [
        "tup.count(11)"
      ],
      "execution_count": null,
      "outputs": [
        {
          "output_type": "execute_result",
          "data": {
            "text/plain": [
              "2"
            ]
          },
          "metadata": {
            "tags": []
          },
          "execution_count": 89
        }
      ]
    },
    {
      "cell_type": "markdown",
      "metadata": {
        "id": "JtKxRDviCx4B",
        "colab_type": "text"
      },
      "source": [
        "2] .index() method finds the first occurrence of the specified value."
      ]
    },
    {
      "cell_type": "code",
      "metadata": {
        "id": "U6O0KgOnEt5G",
        "colab_type": "code",
        "colab": {
          "base_uri": "https://localhost:8080/",
          "height": 34
        },
        "outputId": "eaf52b87-3dbd-4bfe-cfd0-c9e080bd1d0c"
      },
      "source": [
        "tup.index(12)"
      ],
      "execution_count": null,
      "outputs": [
        {
          "output_type": "execute_result",
          "data": {
            "text/plain": [
              "5"
            ]
          },
          "metadata": {
            "tags": []
          },
          "execution_count": 90
        }
      ]
    },
    {
      "cell_type": "markdown",
      "metadata": {
        "id": "RJacp4paFFRV",
        "colab_type": "text"
      },
      "source": [
        "**Q5: Strings and explore default methods**"
      ]
    },
    {
      "cell_type": "code",
      "metadata": {
        "id": "gTOmHvZLFSJL",
        "colab_type": "code",
        "colab": {
          "base_uri": "https://localhost:8080/",
          "height": 34
        },
        "outputId": "2a0921fb-f86c-4737-c4a2-745acb7098ff"
      },
      "source": [
        "str=\"hey, my favourite colour is blue\"\n",
        "print(str)"
      ],
      "execution_count": null,
      "outputs": [
        {
          "output_type": "stream",
          "text": [
            "hey, my favourite colour is blue\n"
          ],
          "name": "stdout"
        }
      ]
    },
    {
      "cell_type": "markdown",
      "metadata": {
        "id": "ump0oioFLi-X",
        "colab_type": "text"
      },
      "source": [
        "1] .capitalize() method returns a string where the first character is Uppercase"
      ]
    },
    {
      "cell_type": "code",
      "metadata": {
        "id": "y7gUB-LNKler",
        "colab_type": "code",
        "colab": {
          "base_uri": "https://localhost:8080/",
          "height": 34
        },
        "outputId": "637b1895-dc76-4820-a83a-696943c9b997"
      },
      "source": [
        "str.capitalize()\n",
        "print(str.capitalize())"
      ],
      "execution_count": null,
      "outputs": [
        {
          "output_type": "stream",
          "text": [
            "Hey, my favourite colour is blue\n"
          ],
          "name": "stdout"
        }
      ]
    },
    {
      "cell_type": "markdown",
      "metadata": {
        "id": "UDoFcAW1Ly70",
        "colab_type": "text"
      },
      "source": [
        "2] .upper() method returns a string where all characters are in upper case."
      ]
    },
    {
      "cell_type": "code",
      "metadata": {
        "id": "kZ1asZqLK00C",
        "colab_type": "code",
        "colab": {
          "base_uri": "https://localhost:8080/",
          "height": 34
        },
        "outputId": "0e11e8dc-4fc1-4ad0-acac-94cf954e4158"
      },
      "source": [
        "str.upper()\n",
        "print(str.upper())"
      ],
      "execution_count": null,
      "outputs": [
        {
          "output_type": "stream",
          "text": [
            "HEY, MY FAVOURITE COLOUR IS BLUE\n"
          ],
          "name": "stdout"
        }
      ]
    },
    {
      "cell_type": "markdown",
      "metadata": {
        "id": "Jfid28gSL7iP",
        "colab_type": "text"
      },
      "source": [
        "3] .endswith() method returns True if the string ends with the specified value, otherwise False."
      ]
    },
    {
      "cell_type": "code",
      "metadata": {
        "id": "qU2ABXaBK2yh",
        "colab_type": "code",
        "colab": {
          "base_uri": "https://localhost:8080/",
          "height": 34
        },
        "outputId": "74a023f7-7146-4661-ccb6-c8b4e55f3bd6"
      },
      "source": [
        "str.endswith(\"blue\")\n",
        "print(str.endswith(\"blue\"))"
      ],
      "execution_count": null,
      "outputs": [
        {
          "output_type": "stream",
          "text": [
            "True\n"
          ],
          "name": "stdout"
        }
      ]
    },
    {
      "cell_type": "markdown",
      "metadata": {
        "id": "M0-oiOGAMHM3",
        "colab_type": "text"
      },
      "source": [
        "4] .title() method returns a string where the first character in every \n",
        "word is upper case."
      ]
    },
    {
      "cell_type": "code",
      "metadata": {
        "id": "EV6cg4CBK7wd",
        "colab_type": "code",
        "colab": {
          "base_uri": "https://localhost:8080/",
          "height": 34
        },
        "outputId": "3bf040b7-f571-4f1d-e131-e5d958265abd"
      },
      "source": [
        "str.title()\n",
        "print(str.title())"
      ],
      "execution_count": null,
      "outputs": [
        {
          "output_type": "stream",
          "text": [
            "Hey, My Favourite Colour Is Blue\n"
          ],
          "name": "stdout"
        }
      ]
    },
    {
      "cell_type": "markdown",
      "metadata": {
        "id": "wLnfTxAQLIm6",
        "colab_type": "text"
      },
      "source": [
        "5] .split() used splits a string into a list."
      ]
    },
    {
      "cell_type": "code",
      "metadata": {
        "id": "gmgdyRKfK_tx",
        "colab_type": "code",
        "colab": {
          "base_uri": "https://localhost:8080/",
          "height": 34
        },
        "outputId": "14489c4f-e586-4b1b-87cc-feedd3940e79"
      },
      "source": [
        "str.split()\n",
        "print(str.split())"
      ],
      "execution_count": null,
      "outputs": [
        {
          "output_type": "stream",
          "text": [
            "['hey,', 'my', 'favourite', 'colour', 'is', 'blue']\n"
          ],
          "name": "stdout"
        }
      ]
    },
    {
      "cell_type": "code",
      "metadata": {
        "id": "jqonynt-3LvG",
        "colab_type": "code",
        "colab": {}
      },
      "source": [
        ""
      ],
      "execution_count": null,
      "outputs": []
    }
  ]
}