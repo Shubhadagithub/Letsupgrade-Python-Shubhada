{
  "nbformat": 4,
  "nbformat_minor": 0,
  "metadata": {
    "colab": {
      "name": "Shubhada_PythonDay7.ipynb",
      "provenance": [],
      "authorship_tag": "ABX9TyORoj3rnQaKrXMY3XJXsOV0",
      "include_colab_link": true
    },
    "kernelspec": {
      "name": "python3",
      "display_name": "Python 3"
    }
  },
  "cells": [
    {
      "cell_type": "markdown",
      "metadata": {
        "id": "view-in-github",
        "colab_type": "text"
      },
      "source": [
        "<a href=\"https://colab.research.google.com/github/Shubhadagithub/Letsupgrade-Python-Shubhada/blob/master/Shubhada_PythonDay7.ipynb\" target=\"_parent\"><img src=\"https://colab.research.google.com/assets/colab-badge.svg\" alt=\"Open In Colab\"/></a>"
      ]
    },
    {
      "cell_type": "markdown",
      "metadata": {
        "id": "sXWPf74XGQMF",
        "colab_type": "text"
      },
      "source": [
        "Let's upgrade Python"
      ]
    },
    {
      "cell_type": "markdown",
      "metadata": {
        "id": "bcMJ0Y-aGUuL",
        "colab_type": "text"
      },
      "source": [
        "**No Assignment given on Day 7**"
      ]
    }
  ]
}