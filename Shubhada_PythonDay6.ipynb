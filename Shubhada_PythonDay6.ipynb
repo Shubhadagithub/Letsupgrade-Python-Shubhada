{
  "nbformat": 4,
  "nbformat_minor": 0,
  "metadata": {
    "colab": {
      "name": "Shubhada_PythonDay6",
      "provenance": [],
      "collapsed_sections": [],
      "authorship_tag": "ABX9TyOJtTncHof27gB9+blJzXTL",
      "include_colab_link": true
    },
    "kernelspec": {
      "name": "python3",
      "display_name": "Python 3"
    }
  },
  "cells": [
    {
      "cell_type": "markdown",
      "metadata": {
        "id": "view-in-github",
        "colab_type": "text"
      },
      "source": [
        "<a href=\"https://colab.research.google.com/github/Shubhadagithub/Letsupgrade-Python-Shubhada/blob/master/Shubhada_PythonDay6.ipynb\" target=\"_parent\"><img src=\"https://colab.research.google.com/assets/colab-badge.svg\" alt=\"Open In Colab\"/></a>"
      ]
    },
    {
      "cell_type": "markdown",
      "metadata": {
        "id": "wkdOE5LXogwm",
        "colab_type": "text"
      },
      "source": [
        "Let's upgrade Python"
      ]
    },
    {
      "cell_type": "markdown",
      "metadata": {
        "id": "0nyLxK54flrQ",
        "colab_type": "text"
      },
      "source": [
        "**QUESTION 1**\n",
        "\n",
        "**For this challenge,create a bank account class that has two attributes**\n",
        "\n",
        "***ownerName**\n",
        "\n",
        "***Balance**\n",
        "\n",
        "**And two methods**\n",
        "\n",
        "***deposit**\n",
        "\n",
        "***withdraw**\n",
        "\n",
        "**As an added requirement,withdrawals may not exceed the available balance.\n",
        "Instantiate your class,make several deposits and withdrawals,and test to make sure the account\n",
        "cant be overdrawn.**"
      ]
    },
    {
      "cell_type": "code",
      "metadata": {
        "id": "BUtLU7OpfHIo",
        "colab_type": "code",
        "colab": {
          "base_uri": "https://localhost:8080/",
          "height": 357
        },
        "outputId": "b40f526c-435d-4a86-de83-931ba20c4bf2"
      },
      "source": [
        "class BankAccount:\n",
        "    def __init__(self):\n",
        "        self.ownerName=\"SHUBHADA PATIL\"\n",
        "        self.Balance=0\n",
        "    def deposit(self): \n",
        "        Amount=float(input(\"\\nEnter amount to be Deposited : \")) \n",
        "        self.Balance += Amount \n",
        "        print(\"\\nAmount Deposited is:\",Amount)\n",
        "    def withdraw(self): \n",
        "        Amount = float(input(\"\\nEnter amount to be Withdrawn : \")) \n",
        "        if self.Balance >= Amount: \n",
        "            self.Balance -= Amount \n",
        "            print(\"\\nYou have Withdrew :\", Amount) \n",
        "        else: \n",
        "            print(\"\\nInsufficient balance in the account, Amount can't be withdrawn...\") \n",
        "            BA.withdraw()\n",
        "print(\"\\n---WELCOME TO BACK ACCOUNT PROGRAM---\")\n",
        "BA=BankAccount()\n",
        "print(\"\\nAccount Holder Name is :\",BA.ownerName)\n",
        "print(\"\\nInitial Account Balance is :\",BA.Balance)\n",
        "BA.deposit();\n",
        "BA.withdraw();\n",
        "print(\"\\nNet Avaliable balance is : \",BA.Balance)\n"
      ],
      "execution_count": 3,
      "outputs": [
        {
          "output_type": "stream",
          "text": [
            "\n",
            "---WELCOME TO BACK ACCOUNT PROGRAM---\n",
            "\n",
            "Account Holder Name is : SHUBHADA PATIL\n",
            "\n",
            "Initial Account Balance is : 0\n",
            "\n",
            "Enter amount to be Deposited : 1000\n",
            "\n",
            "Amount Deposited is: 1000.0\n",
            "\n",
            "Enter amount to be Withdrawn : 1500\n",
            "\n",
            "Insufficient balance in the account, Amount can't be withdrawn...\n",
            "\n",
            "Enter amount to be Withdrawn : 500\n",
            "\n",
            "You have Withdrew : 500.0\n",
            "\n",
            "Net Avaliable balance is :  500.0\n"
          ],
          "name": "stdout"
        }
      ]
    },
    {
      "cell_type": "markdown",
      "metadata": {
        "id": "83GtL-SBhkbK",
        "colab_type": "text"
      },
      "source": [
        "**Question 2**\n",
        "\n",
        "**For this challenge,create a cone class that has two attributes:\n",
        "*R=Radius\n",
        "*h=Height\n",
        "And two methods:\n",
        "*Volume = Π * r2 = (h/3)\n",
        "*Surface area : base : Π * r2 , side : Π * r * √(r2 + h2)\n",
        "Make only one class with functions,as in where required import Math.**"
      ]
    },
    {
      "cell_type": "code",
      "metadata": {
        "id": "v5kKUrcchlza",
        "colab_type": "code",
        "colab": {
          "base_uri": "https://localhost:8080/",
          "height": 153
        },
        "outputId": "633ab554-8331-4ea0-a126-4f2fdd3f9400"
      },
      "source": [
        "import math\n",
        "pi = math.pi\n",
        "class cone:\n",
        "    def __init__(self,r,h):\n",
        "        self.r=r\n",
        "        self.h=h\n",
        "    def volume(self):\n",
        "        result = (1 / 3) * pi * self.r * self.r * self.h\n",
        "        print(\"\\nVolume Of Cone is :\",result)\n",
        "    def surfacearea(self):\n",
        "        result = pi * self.r * self.h + pi * self.r * self.r\n",
        "        print(\"\\nSurface Area Of Cone is :\",result)\n",
        "\n",
        "ra = float(input(\"\\nEnter the radius of cone : \"))\n",
        "he = float(input(\"\\nEnter the height of cone : \"))\n",
        "c = cone( ra, he)\n",
        "c.volume()\n",
        "c.surfacearea()\n"
      ],
      "execution_count": 1,
      "outputs": [
        {
          "output_type": "stream",
          "text": [
            "\n",
            "Enter the radius of cone : 2\n",
            "\n",
            "Enter the height of cone : 6\n",
            "\n",
            "Volume Of Cone is : 25.132741228718345\n",
            "\n",
            "Surface Area Of Cone is : 50.26548245743669\n"
          ],
          "name": "stdout"
        }
      ]
    }
  ]
}