{
  "nbformat": 4,
  "nbformat_minor": 0,
  "metadata": {
    "colab": {
      "name": "Shubhada PythonDay3.ipynb",
      "provenance": [],
      "collapsed_sections": [],
      "authorship_tag": "ABX9TyOI5aUAXqf5ZZ6IZ6CsE4WE",
      "include_colab_link": true
    },
    "kernelspec": {
      "name": "python3",
      "display_name": "Python 3"
    }
  },
  "cells": [
    {
      "cell_type": "markdown",
      "metadata": {
        "id": "view-in-github",
        "colab_type": "text"
      },
      "source": [
        "<a href=\"https://colab.research.google.com/github/Shubhadagithub/Letsupgrade-Python-Shubhada/blob/master/Shubhada_PythonDay3.ipynb\" target=\"_parent\"><img src=\"https://colab.research.google.com/assets/colab-badge.svg\" alt=\"Open In Colab\"/></a>"
      ]
    },
    {
      "cell_type": "markdown",
      "metadata": {
        "id": "bck4z1200iFo",
        "colab_type": "text"
      },
      "source": [
        "Let's upgrade Python"
      ]
    },
    {
      "cell_type": "markdown",
      "metadata": {
        "id": "taitZcUp0lFn",
        "colab_type": "text"
      },
      "source": [
        "Batch 7 Day 3 Assignment"
      ]
    },
    {
      "cell_type": "markdown",
      "metadata": {
        "id": "ypADqx-10tLn",
        "colab_type": "text"
      },
      "source": [
        "**Q1. You all are Pilots, you want to land a plane safely, so altitude required for landing a plane is 1000ft, it it is less than tell pilot to land the plane, or it is more than that but less than 5000ft ask the pilot to “come down to 1000ft”, else if it more than 5000ft ask the pilot to “go around and try later”**"
      ]
    },
    {
      "cell_type": "code",
      "metadata": {
        "id": "lc1bOOlI0K4E",
        "colab_type": "code",
        "colab": {
          "base_uri": "https://localhost:8080/",
          "height": 51
        },
        "outputId": "b86e3da6-1243-446b-fd07-e3075a3dc0c5"
      },
      "source": [
        "Altitude=int(input(\"Enter the current altitude(ft) of plane=\"))\n",
        "if Altitude==1000:\n",
        "    print('Safe to land')\n",
        "elif Altitude<1000:\n",
        "    print('Safe to land')\n",
        "elif Altitude>1000 and Altitude<5000:\n",
        "    print('Bring down to 1000ft')\n",
        "else:\n",
        "    print('Go around and Try later')"
      ],
      "execution_count": 2,
      "outputs": [
        {
          "output_type": "stream",
          "text": [
            "Enter the current altitude(ft) of plane=900\n",
            "Safe to land\n"
          ],
          "name": "stdout"
        }
      ]
    },
    {
      "cell_type": "markdown",
      "metadata": {
        "id": "s_wfIMoP12lQ",
        "colab_type": "text"
      },
      "source": [
        "**Q2. Using for loop please print all the prime numbers between 1- 200 using FOR LOOP AND RANGE function.**"
      ]
    },
    {
      "cell_type": "code",
      "metadata": {
        "id": "fOUGX0jS16xk",
        "colab_type": "code",
        "colab": {
          "base_uri": "https://localhost:8080/",
          "height": 816
        },
        "outputId": "8fa6fc1e-4a56-4c09-a3e4-38c5fc4165a4"
      },
      "source": [
        "print(\"Prime numbers between\", 1 , \"and\", 200 , \"are:\")\n",
        "for num in range(2, 201):\n",
        "        for i in range(2, num):\n",
        "            if (num % i) == 0:\n",
        "                break\n",
        "        else:\n",
        "            print(num)"
      ],
      "execution_count": 4,
      "outputs": [
        {
          "output_type": "stream",
          "text": [
            "Prime numbers between 1 and 200 are:\n",
            "2\n",
            "3\n",
            "5\n",
            "7\n",
            "11\n",
            "13\n",
            "17\n",
            "19\n",
            "23\n",
            "29\n",
            "31\n",
            "37\n",
            "41\n",
            "43\n",
            "47\n",
            "53\n",
            "59\n",
            "61\n",
            "67\n",
            "71\n",
            "73\n",
            "79\n",
            "83\n",
            "89\n",
            "97\n",
            "101\n",
            "103\n",
            "107\n",
            "109\n",
            "113\n",
            "127\n",
            "131\n",
            "137\n",
            "139\n",
            "149\n",
            "151\n",
            "157\n",
            "163\n",
            "167\n",
            "173\n",
            "179\n",
            "181\n",
            "191\n",
            "193\n",
            "197\n",
            "199\n"
          ],
          "name": "stdout"
        }
      ]
    }
  ]
}