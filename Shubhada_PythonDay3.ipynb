{
  "nbformat": 4,
  "nbformat_minor": 0,
  "metadata": {
    "colab": {
      "name": "Shubhada PythonDay3.ipynb",
      "provenance": [],
      "collapsed_sections": [],
      "authorship_tag": "ABX9TyOt8TASZ1z38KkkOXmbKl0V",
      "include_colab_link": true
    },
    "kernelspec": {
      "name": "python3",
      "display_name": "Python 3"
    }
  },
  "cells": [
    {
      "cell_type": "markdown",
      "metadata": {
        "id": "view-in-github",
        "colab_type": "text"
      },
      "source": [
        "<a href=\"https://colab.research.google.com/github/Shubhadagithub/Letsupgrade-Python-Shubhada/blob/master/Shubhada_PythonDay3.ipynb\" target=\"_parent\"><img src=\"https://colab.research.google.com/assets/colab-badge.svg\" alt=\"Open In Colab\"/></a>"
      ]
    },
    {
      "cell_type": "markdown",
      "metadata": {
        "id": "bck4z1200iFo",
        "colab_type": "text"
      },
      "source": [
        "Let's upgrade Python"
      ]
    },
    {
      "cell_type": "markdown",
      "metadata": {
        "id": "taitZcUp0lFn",
        "colab_type": "text"
      },
      "source": [
        "Batch 7 Day 3 Assignment"
      ]
    },
    {
      "cell_type": "markdown",
      "metadata": {
        "id": "ypADqx-10tLn",
        "colab_type": "text"
      },
      "source": [
        "**Q1. You all are Pilots, you want to land a plane safely, so altitude required for landing a plane is 1000ft, it it is less than tell pilot to land the plane, or it is more than that but less than 5000ft ask the pilot to “come down to 1000ft”, else if it more than 5000ft ask the pilot to “go around and try later”**"
      ]
    },
    {
      "cell_type": "code",
      "metadata": {
        "id": "lc1bOOlI0K4E",
        "colab_type": "code",
        "colab": {
          "base_uri": "https://localhost:8080/",
          "height": 72
        },
        "outputId": "2432abed-0c0d-4201-8631-47d6787fcb76"
      },
      "source": [
        "Altitude=int(input(\"Enter the current altitude(in ft) of plane=\"))\n",
        "if Altitude==1000:\n",
        "    print('Safe to land')\n",
        "elif Altitude<1000:\n",
        "    print('Safe to land')\n",
        "elif Altitude>1000 and Altitude<5000:\n",
        "    print('Bring down to 1000ft')\n",
        "else:\n",
        "    print('Go around and Try later')"
      ],
      "execution_count": null,
      "outputs": [
        {
          "output_type": "stream",
          "text": [
            "Enter the current altitude(in ft) of plane=900\n",
            "Safe to land\n"
          ],
          "name": "stdout"
        }
      ]
    },
    {
      "cell_type": "markdown",
      "metadata": {
        "id": "s_wfIMoP12lQ",
        "colab_type": "text"
      },
      "source": [
        "**Q2. Using for loop please print all the prime numbers between 1- 200 using FOR LOOP AND RANGE function.**"
      ]
    },
    {
      "cell_type": "code",
      "metadata": {
        "id": "fOUGX0jS16xk",
        "colab_type": "code",
        "colab": {
          "base_uri": "https://localhost:8080/",
          "height": 55
        },
        "outputId": "099b4c86-e812-443e-b1d4-2206634e7466"
      },
      "source": [
        "for num in range(2, 201):\n",
        "        for i in range(2, num):\n",
        "            if (num % i) == 0:\n",
        "                break\n",
        "        else:\n",
        "            print(num,end=',')"
      ],
      "execution_count": 1,
      "outputs": [
        {
          "output_type": "stream",
          "text": [
            "2,3,5,7,11,13,17,19,23,29,31,37,41,43,47,53,59,61,67,71,73,79,83,89,97,101,103,107,109,113,127,131,137,139,149,151,157,163,167,173,179,181,191,193,197,199,"
          ],
          "name": "stdout"
        }
      ]
    },
    {
      "cell_type": "code",
      "metadata": {
        "id": "2HruWdLW5UpJ",
        "colab_type": "code",
        "colab": {}
      },
      "source": [
        ""
      ],
      "execution_count": null,
      "outputs": []
    }
  ]
}