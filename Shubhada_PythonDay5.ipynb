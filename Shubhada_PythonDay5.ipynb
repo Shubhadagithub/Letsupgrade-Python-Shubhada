{
  "nbformat": 4,
  "nbformat_minor": 0,
  "metadata": {
    "colab": {
      "name": "Shubhada_PythonDay5",
      "provenance": [],
      "collapsed_sections": [],
      "authorship_tag": "ABX9TyMVjrzviq0xPnPyru1A1VJT",
      "include_colab_link": true
    },
    "kernelspec": {
      "name": "python3",
      "display_name": "Python 3"
    }
  },
  "cells": [
    {
      "cell_type": "markdown",
      "metadata": {
        "id": "view-in-github",
        "colab_type": "text"
      },
      "source": [
        "<a href=\"https://colab.research.google.com/github/Shubhadagithub/Letsupgrade-Python-Shubhada/blob/master/Shubhada_PythonDay5.ipynb\" target=\"_parent\"><img src=\"https://colab.research.google.com/assets/colab-badge.svg\" alt=\"Open In Colab\"/></a>"
      ]
    },
    {
      "cell_type": "markdown",
      "metadata": {
        "id": "AOE8TO5tL83w",
        "colab_type": "text"
      },
      "source": [
        "Let's Upgrade Python"
      ]
    },
    {
      "cell_type": "markdown",
      "metadata": {
        "id": "W8uxmTegLcMt",
        "colab_type": "text"
      },
      "source": [
        "**DAY 5 ASSIGNMENT 1**\n",
        "\n",
        "**Write a program to identify sub list [1,1,5] is there in the given list in the same order, if yes print\n",
        "“it’s a Match” if no then print “it’s Gone” in function.\n",
        "Example -\n",
        "Listy =[1,5,6,4,1,2,3,5] - it’s a Match\n",
        "Listy = [1,5,6,5,1,2,3.6] - it’s Gone\n",
        "length = list (input(\"Enter the length of list \"))**"
      ]
    },
    {
      "cell_type": "code",
      "metadata": {
        "id": "y2OnFPy3LE_0",
        "colab_type": "code",
        "colab": {
          "base_uri": "https://localhost:8080/",
          "height": 68
        },
        "outputId": "48fbe954-7e9d-4ed6-fbf3-d2da0ef286eb"
      },
      "source": [
        "t = [float(x) for x in input(\"Listy=\").split()]\n",
        "u=[1,1,5]\n",
        "def check(a,b):\n",
        "    for i in a:\n",
        "        for j in b:\n",
        "            if(len(b)>=0 and j == i):\n",
        "                b.pop(0)\n",
        "            else:\n",
        "                break\n",
        "    return b\n",
        " \n",
        "if len(check(t,u))==0:\n",
        "    print(\"Its a match\")\n",
        "else: print(\"Its gone\")\n",
        " \n",
        "check(t,u)"
      ],
      "execution_count": null,
      "outputs": [
        {
          "output_type": "stream",
          "text": [
            "Listy=1 5 6 4 1 2 3 5\n",
            "Its a match\n"
          ],
          "name": "stdout"
        },
        {
          "output_type": "execute_result",
          "data": {
            "text/plain": [
              "[]"
            ]
          },
          "metadata": {
            "tags": []
          },
          "execution_count": 1
        }
      ]
    },
    {
      "cell_type": "code",
      "metadata": {
        "id": "PWmTw9jKLNpO",
        "colab_type": "code",
        "colab": {
          "base_uri": "https://localhost:8080/",
          "height": 68
        },
        "outputId": "30b127c1-7fc0-42f8-b28f-2f4035c1cfc8"
      },
      "source": [
        "# Running same program for second condition\n",
        "t = [float(x) for x in input(\"Listy=\").split()]\n",
        "u=[1,1,5]\n",
        "def check(a,b):\n",
        "    for i in a:\n",
        "        for j in b:\n",
        "            if(len(b)>=0 and j == i):\n",
        "                b.pop(0)\n",
        "            else:\n",
        "                break\n",
        "    return b\n",
        "\n",
        "if len(check(t,u))==0:\n",
        "    print(\"Its a match\")\n",
        "else: print(\"Its gone\")\n",
        "\n",
        "check(t,u)"
      ],
      "execution_count": null,
      "outputs": [
        {
          "output_type": "stream",
          "text": [
            "Listy=1 5 6 5 1 2 3.6\n",
            "Its gone\n"
          ],
          "name": "stdout"
        },
        {
          "output_type": "execute_result",
          "data": {
            "text/plain": [
              "[]"
            ]
          },
          "metadata": {
            "tags": []
          },
          "execution_count": 2
        }
      ]
    },
    {
      "cell_type": "markdown",
      "metadata": {
        "id": "ZMoBYwbfMCHY",
        "colab_type": "text"
      },
      "source": [
        "**DAY 5 ASSIGNMENT 2**\n",
        "\n",
        "**Make a Function for prime numbers and use Filter to filter out all the prime numbers from 1-2500**"
      ]
    },
    {
      "cell_type": "code",
      "metadata": {
        "id": "kneBPWWUMSwg",
        "colab_type": "code",
        "colab": {}
      },
      "source": [
        "def testprime(a):\n",
        "    if a < 2:\n",
        "      return False\n",
        "    for n in range(2,(a-1)):\n",
        "        if a % n == 0:\n",
        "          return False\n",
        "    return True"
      ],
      "execution_count": null,
      "outputs": []
    },
    {
      "cell_type": "code",
      "metadata": {
        "id": "WZUDNh8zMWes",
        "colab_type": "code",
        "colab": {
          "base_uri": "https://localhost:8080/",
          "height": 54
        },
        "outputId": "6c3fa29e-aa8f-458e-d6e1-347e0688e598"
      },
      "source": [
        "testprime_filter= filter(testprime,range(1,2500))\n",
        "print(list(testprime_filter))"
      ],
      "execution_count": null,
      "outputs": [
        {
          "output_type": "stream",
          "text": [
            "[2, 3, 5, 7, 11, 13, 17, 19, 23, 29, 31, 37, 41, 43, 47, 53, 59, 61, 67, 71, 73, 79, 83, 89, 97, 101, 103, 107, 109, 113, 127, 131, 137, 139, 149, 151, 157, 163, 167, 173, 179, 181, 191, 193, 197, 199, 211, 223, 227, 229, 233, 239, 241, 251, 257, 263, 269, 271, 277, 281, 283, 293, 307, 311, 313, 317, 331, 337, 347, 349, 353, 359, 367, 373, 379, 383, 389, 397, 401, 409, 419, 421, 431, 433, 439, 443, 449, 457, 461, 463, 467, 479, 487, 491, 499, 503, 509, 521, 523, 541, 547, 557, 563, 569, 571, 577, 587, 593, 599, 601, 607, 613, 617, 619, 631, 641, 643, 647, 653, 659, 661, 673, 677, 683, 691, 701, 709, 719, 727, 733, 739, 743, 751, 757, 761, 769, 773, 787, 797, 809, 811, 821, 823, 827, 829, 839, 853, 857, 859, 863, 877, 881, 883, 887, 907, 911, 919, 929, 937, 941, 947, 953, 967, 971, 977, 983, 991, 997, 1009, 1013, 1019, 1021, 1031, 1033, 1039, 1049, 1051, 1061, 1063, 1069, 1087, 1091, 1093, 1097, 1103, 1109, 1117, 1123, 1129, 1151, 1153, 1163, 1171, 1181, 1187, 1193, 1201, 1213, 1217, 1223, 1229, 1231, 1237, 1249, 1259, 1277, 1279, 1283, 1289, 1291, 1297, 1301, 1303, 1307, 1319, 1321, 1327, 1361, 1367, 1373, 1381, 1399, 1409, 1423, 1427, 1429, 1433, 1439, 1447, 1451, 1453, 1459, 1471, 1481, 1483, 1487, 1489, 1493, 1499, 1511, 1523, 1531, 1543, 1549, 1553, 1559, 1567, 1571, 1579, 1583, 1597, 1601, 1607, 1609, 1613, 1619, 1621, 1627, 1637, 1657, 1663, 1667, 1669, 1693, 1697, 1699, 1709, 1721, 1723, 1733, 1741, 1747, 1753, 1759, 1777, 1783, 1787, 1789, 1801, 1811, 1823, 1831, 1847, 1861, 1867, 1871, 1873, 1877, 1879, 1889, 1901, 1907, 1913, 1931, 1933, 1949, 1951, 1973, 1979, 1987, 1993, 1997, 1999, 2003, 2011, 2017, 2027, 2029, 2039, 2053, 2063, 2069, 2081, 2083, 2087, 2089, 2099, 2111, 2113, 2129, 2131, 2137, 2141, 2143, 2153, 2161, 2179, 2203, 2207, 2213, 2221, 2237, 2239, 2243, 2251, 2267, 2269, 2273, 2281, 2287, 2293, 2297, 2309, 2311, 2333, 2339, 2341, 2347, 2351, 2357, 2371, 2377, 2381, 2383, 2389, 2393, 2399, 2411, 2417, 2423, 2437, 2441, 2447, 2459, 2467, 2473, 2477]\n"
          ],
          "name": "stdout"
        }
      ]
    },
    {
      "cell_type": "markdown",
      "metadata": {
        "id": "MfZqlqCaMaHr",
        "colab_type": "text"
      },
      "source": [
        "**DAY 5 ASSIGNMENT 3**\n",
        "\n",
        "**Make a Lambda function for capitalizing the whole sentence passed using arguments. And map all the sentences in the List, with the lambda functions**"
      ]
    },
    {
      "cell_type": "code",
      "metadata": {
        "id": "8nIwemO3Mm15",
        "colab_type": "code",
        "colab": {}
      },
      "source": [
        "def func(sentence):\n",
        "  str=[sentence]\n",
        "  str_one=list(map(lambda x: x.title(),str))\n",
        "  print(str_one)"
      ],
      "execution_count": 5,
      "outputs": []
    },
    {
      "cell_type": "code",
      "metadata": {
        "id": "lho2Z3sCcSaK",
        "colab_type": "code",
        "colab": {
          "base_uri": "https://localhost:8080/",
          "height": 34
        },
        "outputId": "6d8c7a52-2531-42f1-80b0-f61d839f89cc"
      },
      "source": [
        "func(\"hey i learning python with let's upgrade\")"
      ],
      "execution_count": 6,
      "outputs": [
        {
          "output_type": "stream",
          "text": [
            "[\"Hey I Learning Python With Let'S Upgrade\"]\n"
          ],
          "name": "stdout"
        }
      ]
    }
  ]
}