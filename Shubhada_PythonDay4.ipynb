{
  "nbformat": 4,
  "nbformat_minor": 0,
  "metadata": {
    "colab": {
      "name": "Shubhada PythonDay4.ipynb",
      "provenance": [],
      "collapsed_sections": [],
      "authorship_tag": "ABX9TyP/oMNNZ5LPuBYA1vJY5yzC",
      "include_colab_link": true
    },
    "kernelspec": {
      "name": "python3",
      "display_name": "Python 3"
    }
  },
  "cells": [
    {
      "cell_type": "markdown",
      "metadata": {
        "id": "view-in-github",
        "colab_type": "text"
      },
      "source": [
        "<a href=\"https://colab.research.google.com/github/Shubhadagithub/Letsupgrade-Python-Shubhada/blob/master/Shubhada_PythonDay4.ipynb\" target=\"_parent\"><img src=\"https://colab.research.google.com/assets/colab-badge.svg\" alt=\"Open In Colab\"/></a>"
      ]
    },
    {
      "cell_type": "markdown",
      "metadata": {
        "id": "OEAa2rZudIR1",
        "colab_type": "text"
      },
      "source": [
        "Let's upgrade python"
      ]
    },
    {
      "cell_type": "markdown",
      "metadata": {
        "id": "fmtkipMKdOpa",
        "colab_type": "text"
      },
      "source": [
        "**ASSIGNMENT 1**\n",
        "\n",
        "**Print the first Armstrong number in the range of 1042000 to 702648265 and exit the loop as soon as you encounter the first armstrong number.\n",
        "Use while loop.**"
      ]
    },
    {
      "cell_type": "code",
      "metadata": {
        "id": "LzIZKX7uOeIW",
        "colab_type": "code",
        "colab": {
          "base_uri": "https://localhost:8080/",
          "height": 34
        },
        "outputId": "2a735787-d3d5-4a4e-e575-deb5a7e00eaa"
      },
      "source": [
        "for num in range (1042000,702648265):     \n",
        "    o= len (str(num))                     # Order of number\n",
        "    sum = 0                               # Initiallize the sum\n",
        "    temp = num                          \n",
        "    while temp > 0:\n",
        "        x = temp % 10\n",
        "        sum += x ** o\n",
        "        temp //= 10\n",
        "\n",
        "    if num == sum:\n",
        "        print(\"The first armstrong number is \",num)\n",
        "        break                             # break the loop as soon as found the first armstrong number \n"
      ],
      "execution_count": 1,
      "outputs": [
        {
          "output_type": "stream",
          "text": [
            "The first armstrong number is  1741725\n"
          ],
          "name": "stdout"
        }
      ]
    }
  ]
}