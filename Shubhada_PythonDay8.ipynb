{
  "nbformat": 4,
  "nbformat_minor": 0,
  "metadata": {
    "colab": {
      "name": "Shubhada_PythonDay8",
      "provenance": [],
      "collapsed_sections": [],
      "authorship_tag": "ABX9TyMr4txu5lOllH3TWGsdNhiw",
      "include_colab_link": true
    },
    "kernelspec": {
      "name": "python3",
      "display_name": "Python 3"
    }
  },
  "cells": [
    {
      "cell_type": "markdown",
      "metadata": {
        "id": "view-in-github",
        "colab_type": "text"
      },
      "source": [
        "<a href=\"https://colab.research.google.com/github/Shubhadagithub/Letsupgrade-Python-Shubhada/blob/master/Shubhada_PythonDay8.ipynb\" target=\"_parent\"><img src=\"https://colab.research.google.com/assets/colab-badge.svg\" alt=\"Open In Colab\"/></a>"
      ]
    },
    {
      "cell_type": "markdown",
      "metadata": {
        "id": "mf-WQIkksRyh",
        "colab_type": "text"
      },
      "source": [
        "Let's upgrade Python"
      ]
    },
    {
      "cell_type": "markdown",
      "metadata": {
        "id": "kzeHgn5-soSw",
        "colab_type": "text"
      },
      "source": [
        "**DAY 8 QUESTION 1**\n",
        "\n",
        "**Write a decorator function for your taking input for you any kind of function you want to build.**"
      ]
    },
    {
      "cell_type": "code",
      "metadata": {
        "id": "twKq5bAStAjh",
        "colab_type": "code",
        "colab": {}
      },
      "source": [
        "def getInput(calculate_Even):\n",
        "    def wrap_function():\n",
        "      a = int(input(\"\\nEnter First Number - \"))\n",
        "      b = int(input(\"\\nEnter Second Number - \"))\n",
        "      calculate_Even(a,b)   \n",
        "    return wrap_function"
      ],
      "execution_count": 9,
      "outputs": []
    },
    {
      "cell_type": "code",
      "metadata": {
        "id": "jA5QCDC7tIYT",
        "colab_type": "code",
        "colab": {}
      },
      "source": [
        "@getInput        #calling decorator for input\n",
        "def EvenNumbers(start, last):\n",
        "    print(\"\\nThe Even numbers in the range\",start,\"to\",last,\"is :\\n\")\n",
        "    for n in range(start, last + 1): \n",
        "      if n % 2 == 0: \n",
        "        print(n, end = \" \")"
      ],
      "execution_count": 14,
      "outputs": []
    },
    {
      "cell_type": "code",
      "metadata": {
        "id": "M9YO1PUStNAv",
        "colab_type": "code",
        "colab": {
          "base_uri": "https://localhost:8080/",
          "height": 153
        },
        "outputId": "f2923f9d-2fcd-4224-f54a-b1bc5786ff1b"
      },
      "source": [
        "EvenNumbers()"
      ],
      "execution_count": 15,
      "outputs": [
        {
          "output_type": "stream",
          "text": [
            "\n",
            "Enter First Number - 1\n",
            "\n",
            "Enter Second Number - 50\n",
            "\n",
            "The Even numbers in the range 1 to 50 is :\n",
            "\n",
            "2 4 6 8 10 12 14 16 18 20 22 24 26 28 30 32 34 36 38 40 42 44 46 48 50 "
          ],
          "name": "stdout"
        }
      ]
    },
    {
      "cell_type": "markdown",
      "metadata": {
        "id": "oBrLvCP7sVAn",
        "colab_type": "text"
      },
      "source": [
        "**DAY 8 QUESTION 2**\n",
        "\n",
        "**For this challenge you need to develop a Python program to open a file in read only mode and try writing something to it and handle the subsequent errors using Exception Handling.**"
      ]
    },
    {
      "cell_type": "code",
      "metadata": {
        "id": "Rs9qdkkIrkZZ",
        "colab_type": "code",
        "colab": {
          "base_uri": "https://localhost:8080/",
          "height": 34
        },
        "outputId": "8c62891e-dedd-4c6b-cfb4-8de937e1b598"
      },
      "source": [
        "%%writefile pythonday8.txt\n",
        "Hey, I am here"
      ],
      "execution_count": 5,
      "outputs": [
        {
          "output_type": "stream",
          "text": [
            "Writing pythonday8.txt\n"
          ],
          "name": "stdout"
        }
      ]
    },
    {
      "cell_type": "code",
      "metadata": {
        "id": "RBKFd4YQrZkT",
        "colab_type": "code",
        "colab": {
          "base_uri": "https://localhost:8080/",
          "height": 51
        },
        "outputId": "1340fc67-fbb9-4c18-c965-bb47ff0d805e"
      },
      "source": [
        "# Opening a file in read only mode and using exception handling fro error when try to write something in it\n",
        "try:    \n",
        "  file= open(\"pythonday8.txt\",\"r\")\n",
        "  file.write(\"\\nI am learning python with Let's upgrade\")\n",
        "  print(fileData)\n",
        "  file.close()\n",
        "except Exception as e:\n",
        "  print(\"This file is\",e)\n",
        "finally:\n",
        "  print(\"Try anything else\")"
      ],
      "execution_count": 8,
      "outputs": [
        {
          "output_type": "stream",
          "text": [
            "This file is not writable\n",
            "Try anything else\n"
          ],
          "name": "stdout"
        }
      ]
    }
  ]
}